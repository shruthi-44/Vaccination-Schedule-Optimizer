{
  "nbformat": 4,
  "nbformat_minor": 0,
  "metadata": {
    "colab": {
      "provenance": []
    },
    "kernelspec": {
      "name": "python3",
      "display_name": "Python 3"
    },
    "language_info": {
      "name": "python"
    }
  },
  "cells": [
    {
      "cell_type": "code",
      "execution_count": 2,
      "metadata": {
        "colab": {
          "base_uri": "https://localhost:8080/"
        },
        "id": "QFX4o0r2e0RX",
        "outputId": "63c23c65-ad2d-4eb2-b632-655004a808b0"
      },
      "outputs": [
        {
          "output_type": "stream",
          "name": "stdout",
          "text": [
            "Cloning into 'Vaccination-Schedule-Optimizer'...\n",
            "warning: You appear to have cloned an empty repository.\n"
          ]
        }
      ],
      "source": [
        "!git clone https://github.com/shruthi-44/Vaccination-Schedule-Optimizer"
      ]
    },
    {
      "cell_type": "code",
      "source": [
        "from datetime import datetime, timedelta"
      ],
      "metadata": {
        "id": "ekmLcvy0fUNX"
      },
      "execution_count": 3,
      "outputs": []
    },
    {
      "cell_type": "code",
      "source": [
        "VACCINE_DB = {\n",
        "    \"Hepatitis A\": {\n",
        "        \"age_range\": (1, 100),\n",
        "        \"doses\": 2,\n",
        "        \"interval_days\": 180,\n",
        "        \"travel_related\": True,\n",
        "        \"contraindications\": [\"liver disease\"],\n",
        "    },\n",
        "    \"Yellow Fever\": {\n",
        "        \"age_range\": (9, 60),\n",
        "        \"doses\": 1,\n",
        "        \"interval_days\": None,\n",
        "        \"travel_related\": True,\n",
        "        \"contraindications\": [\"immunocompromised\"],\n",
        "    },\n",
        "    \"Tdap\": {\n",
        "        \"age_range\": (10, 64),\n",
        "        \"doses\": 1,\n",
        "        \"interval_days\": None,\n",
        "        \"travel_related\": False,\n",
        "        \"contraindications\": [],\n",
        "    },\n",
        "    \"MMR\": {\n",
        "        \"age_range\": (1, 55),\n",
        "        \"doses\": 2,\n",
        "        \"interval_days\": 28,\n",
        "        \"travel_related\": False,\n",
        "        \"contraindications\": [\"pregnancy\"],\n",
        "    },\n",
        "}\n"
      ],
      "metadata": {
        "id": "20J0av0-hCUM"
      },
      "execution_count": 25,
      "outputs": []
    },
    {
      "cell_type": "code",
      "source": [
        "def check_eligibility(profile):\n",
        "    eligible = []\n",
        "    for vac, data in VACCINE_DB.items():\n",
        "        age = profile[\"age\"]\n",
        "        if not (data[\"age_range\"][0] <= age <= data[\"age_range\"][1]):\n",
        "            continue\n",
        "        if any(cond in profile[\"conditions\"] for cond in data[\"contraindications\"]):\n",
        "            continue\n",
        "        if vac in profile[\"history\"]:\n",
        "            continue\n",
        "        if data[\"travel_related\"] and not profile.get(\"travel\"):\n",
        "            continue\n",
        "        eligible.append(vac)\n",
        "    return eligible\n"
      ],
      "metadata": {
        "id": "K439lF-shiZy"
      },
      "execution_count": 26,
      "outputs": []
    },
    {
      "cell_type": "code",
      "source": [
        "def priority_score(vaccine, profile, outbreak_data):\n",
        "    base_score = 0\n",
        "    data = VACCINE_DB[vaccine]\n",
        "\n",
        "\n",
        "    if data[\"travel_related\"] and profile.get(\"travel\"):\n",
        "        base_score += 50\n",
        "\n",
        "    if \"immunocompromised\" in profile[\"conditions\"]:\n",
        "        base_score += 20\n",
        "\n",
        "\n",
        "    disease = vaccine.lower()\n",
        "    outbreak_risk = outbreak_data.get(disease, 0)  # e.g., from 0 to 100\n",
        "    base_score += outbreak_risk\n",
        "\n",
        "    return base_score"
      ],
      "metadata": {
        "id": "Vs8l1wsepX3_"
      },
      "execution_count": 27,
      "outputs": []
    },
    {
      "cell_type": "code",
      "source": [
        "def optimize_schedule(eligible_vaccines, profile, outbreak_data):\n",
        "    today = datetime.today()\n",
        "    schedule = []\n",
        "\n",
        "\n",
        "    scored = [(vac, priority_score(vac, profile, outbreak_data)) for vac in eligible_vaccines]\n",
        "    scored.sort(key=lambda x: x[1], reverse=True)\n",
        "\n",
        "\n",
        "    for vac, score in scored:\n",
        "        data = VACCINE_DB[vac]\n",
        "        dose_date = today\n",
        "        for dose_num in range(data[\"doses\"]):\n",
        "            schedule.append({\n",
        "                \"vaccine\": vac,\n",
        "                \"dose\": dose_num + 1,\n",
        "                \"date\": dose_date.strftime(\"%Y-%m-%d\"),\n",
        "                \"priority_score\": score\n",
        "            })\n",
        "            if data[\"interval_days\"]:\n",
        "                dose_date += timedelta(days=data[\"interval_days\"])\n",
        "\n",
        "    return schedule"
      ],
      "metadata": {
        "id": "YFpVMTKQpsXE"
      },
      "execution_count": 20,
      "outputs": []
    },
    {
      "cell_type": "code",
      "source": [
        "def generate_explanations(schedule, profile, outbreak_data):\n",
        "    explanations = []\n",
        "    for item in schedule:\n",
        "        vac = item[\"vaccine\"]\n",
        "        data = VACCINE_DB[vac]\n",
        "        expl = f\"{vac} dose {item['dose']} scheduled on {item['date']}.\"\n",
        "\n",
        "        reasons = []\n",
        "        if data[\"travel_related\"] and profile.get(\"travel\"):\n",
        "            reasons.append(f\"Travel to {', '.join(profile['travel'])} increases risk.\")\n",
        "        if item[\"priority_score\"] > 50:\n",
        "            reasons.append(f\"High priority due to outbreak risk or vulnerability.\")\n",
        "        if reasons:\n",
        "            expl += \" Reason(s): \" + \"; \".join(reasons)\n",
        "\n",
        "        explanations.append(expl)\n",
        "    return explanations"
      ],
      "metadata": {
        "id": "yspN1dLqpvxe"
      },
      "execution_count": 28,
      "outputs": []
    },
    {
      "cell_type": "code",
      "source": [
        "def generate_reminders(schedule):\n",
        "    reminders = []\n",
        "    for item in schedule:\n",
        "        reminders.append(f\"Reminder: {item['vaccine']} dose {item['dose']} on {item['date']}\")\n",
        "    return reminders"
      ],
      "metadata": {
        "id": "Rdfx0hO1qIjL"
      },
      "execution_count": 29,
      "outputs": []
    },
    {
      "cell_type": "code",
      "source": [
        "def main():\n",
        "    profile = {\n",
        "        \"name\": \"Sarah\",\n",
        "        \"age\": 28,\n",
        "        \"conditions\": [\"asthma\"],\n",
        "        \"travel\": [\"Brazil\"],\n",
        "        \"history\": [],\n",
        "    }\n",
        "\n",
        "\n",
        "    outbreak_data = {\n",
        "        \"hepatitis a\": 40,\n",
        "        \"yellow fever\": 70,\n",
        "        \"tdap\": 10,\n",
        "        \"mmr\": 5,\n",
        "    }\n",
        "\n",
        "    eligible = check_eligibility(profile)\n",
        "    schedule = optimize_schedule(eligible, profile, outbreak_data)\n",
        "    explanations = generate_explanations(schedule, profile, outbreak_data)\n",
        "    reminders = generate_reminders(schedule)\n",
        "\n",
        "    print(f\"Vaccination Schedule for {profile['name']}:\\n\")\n",
        "    for item, expl in zip(schedule, explanations):\n",
        "        print(f\"- {item['vaccine']} dose {item['dose']} on {item['date']} (Priority: {item['priority_score']})\")\n",
        "        print(f\"  Explanation: {expl}\")\n",
        "\n",
        "    print(\"\\nReminders:\")\n",
        "    for r in reminders:\n",
        "        print(\"-\", r)\n",
        "\n",
        "if __name__ == \"__main__\":\n",
        "    main()"
      ],
      "metadata": {
        "colab": {
          "base_uri": "https://localhost:8080/"
        },
        "id": "5P-c6EERq7_C",
        "outputId": "13cf1f26-474b-42c9-8194-b19dfe9ed361"
      },
      "execution_count": 30,
      "outputs": [
        {
          "output_type": "stream",
          "name": "stdout",
          "text": [
            "Vaccination Schedule for Sarah:\n",
            "\n",
            "- Yellow Fever dose 1 on 2025-07-08 (Priority: 120)\n",
            "  Explanation: Yellow Fever dose 1 scheduled on 2025-07-08. Reason(s): Travel to Brazil increases risk.; High priority due to outbreak risk or vulnerability.\n",
            "- Hepatitis A dose 1 on 2025-07-08 (Priority: 90)\n",
            "  Explanation: Hepatitis A dose 1 scheduled on 2025-07-08. Reason(s): Travel to Brazil increases risk.; High priority due to outbreak risk or vulnerability.\n",
            "- Hepatitis A dose 2 on 2026-01-04 (Priority: 90)\n",
            "  Explanation: Hepatitis A dose 2 scheduled on 2026-01-04. Reason(s): Travel to Brazil increases risk.; High priority due to outbreak risk or vulnerability.\n",
            "- Tdap dose 1 on 2025-07-08 (Priority: 10)\n",
            "  Explanation: Tdap dose 1 scheduled on 2025-07-08.\n",
            "- MMR dose 1 on 2025-07-08 (Priority: 5)\n",
            "  Explanation: MMR dose 1 scheduled on 2025-07-08.\n",
            "- MMR dose 2 on 2025-08-05 (Priority: 5)\n",
            "  Explanation: MMR dose 2 scheduled on 2025-08-05.\n",
            "\n",
            "Reminders:\n",
            "- Reminder: Yellow Fever dose 1 on 2025-07-08\n",
            "- Reminder: Hepatitis A dose 1 on 2025-07-08\n",
            "- Reminder: Hepatitis A dose 2 on 2026-01-04\n",
            "- Reminder: Tdap dose 1 on 2025-07-08\n",
            "- Reminder: MMR dose 1 on 2025-07-08\n",
            "- Reminder: MMR dose 2 on 2025-08-05\n"
          ]
        }
      ]
    }
  ]
}